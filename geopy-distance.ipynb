{
 "cells": [
  {
   "cell_type": "markdown",
   "metadata": {},
   "source": [
    "Определяем расстояние между двумя точками на Земле в Pytnon\n",
    "\n",
    "Для работы с координатами воспользуемся библиотекой [geopy](https://pypi.org/project/geopy), о которой уже был [пост](https://t.me/python_academy/775) ранее.\n",
    "\n",
    "\n",
    "Официальную документацию можно просмотреть [тут](https://geopy.readthedocs.io/en/latest/#geocoders)."
   ]
  },
  {
   "cell_type": "code",
   "execution_count": null,
   "metadata": {},
   "outputs": [],
   "source": [
    "#@title ##**Установка библиотеки**\n",
    "#@markdown `pip install geopy`\n",
    "\n",
    "%pip install geopy"
   ]
  },
  {
   "cell_type": "code",
   "execution_count": 2,
   "metadata": {},
   "outputs": [
    {
     "name": "stdout",
     "output_type": "stream",
     "text": [
      "Расстояние от Лондона до Рима составляет: 1435.55 километра\n"
     ]
    }
   ],
   "source": [
    "from geopy.distance import geodesic\n",
    "\n",
    "# Координаты двух точек\n",
    "rome_latlong = (41.893320, 12.482932)\n",
    "london_latlong = (51.507322, -0.127647)\n",
    "\n",
    "# Расчет расстояния в километрах\n",
    "distance_km = geodesic(rome_latlong, london_latlong).kilometers\n",
    "\n",
    "print(f'Расстояние от Лондона до Рима составляет: {distance_km:.2f} километра')"
   ]
  }
 ],
 "metadata": {
  "interpreter": {
   "hash": "2db524e06e9f5f4ffedc911c917cb75e12dbc923643829bf417064a77eb14d37"
  },
  "kernelspec": {
   "display_name": "Python 3.8.0 64-bit",
   "language": "python",
   "name": "python3"
  },
  "language_info": {
   "codemirror_mode": {
    "name": "ipython",
    "version": 3
   },
   "file_extension": ".py",
   "mimetype": "text/x-python",
   "name": "python",
   "nbconvert_exporter": "python",
   "pygments_lexer": "ipython3",
   "version": "3.9.6"
  },
  "orig_nbformat": 4
 },
 "nbformat": 4,
 "nbformat_minor": 2
}
