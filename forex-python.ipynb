{
 "cells": [
  {
   "cell_type": "markdown",
   "metadata": {},
   "source": [
    "Курс и конвертер валют в Python\n",
    "\n",
    "Для работы с разными валютами и их курсами существует библиотека [forex-python](https://github.com/MicroPyramid/forex-python).\n",
    "С её помощью можно узнать курс любой валюты и сконвертировать одну валюту в другую.\n"
   ]
  },
  {
   "cell_type": "code",
   "execution_count": null,
   "metadata": {},
   "outputs": [],
   "source": [
    "#@title ##**Установка библиотеки**\n",
    "#@markdown `pip install forex-python`\n",
    "\n",
    "%pip install forex-python"
   ]
  },
  {
   "cell_type": "code",
   "execution_count": 2,
   "metadata": {},
   "outputs": [
    {
     "name": "stdout",
     "output_type": "stream",
     "text": [
      "Курс Доллара США к Евро: 1.12\n"
     ]
    }
   ],
   "source": [
    "from forex_python.converter import CurrencyRates\n",
    "api = CurrencyRates()\n",
    "\n",
    "currency = api.get_rate('EUR', 'USD')\n",
    "\n",
    "print(f'Курс Доллара США к Евро: {currency:.2f}')"
   ]
  },
  {
   "cell_type": "code",
   "execution_count": 3,
   "metadata": {},
   "outputs": [
    {
     "name": "stdout",
     "output_type": "stream",
     "text": [
      "1000 Евро равняется 1116.00 Долларам США\n"
     ]
    }
   ],
   "source": [
    "count = api.convert('EUR', 'USD', 1000)\n",
    "print(f'1000 Евро равняется {count:.2f} Долларам США')"
   ]
  }
 ],
 "metadata": {
  "interpreter": {
   "hash": "2db524e06e9f5f4ffedc911c917cb75e12dbc923643829bf417064a77eb14d37"
  },
  "kernelspec": {
   "display_name": "Python 3.8.0 64-bit",
   "language": "python",
   "name": "python3"
  },
  "language_info": {
   "codemirror_mode": {
    "name": "ipython",
    "version": 3
   },
   "file_extension": ".py",
   "mimetype": "text/x-python",
   "name": "python",
   "nbconvert_exporter": "python",
   "pygments_lexer": "ipython3",
   "version": "3.8.0"
  },
  "orig_nbformat": 4
 },
 "nbformat": 4,
 "nbformat_minor": 2
}
