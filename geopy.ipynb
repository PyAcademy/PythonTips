{
 "cells": [
  {
   "cell_type": "markdown",
   "metadata": {},
   "source": [
    "Определяем координаты места по его адресу в Pytnon\n",
    "\n",
    "Для работы с адресами мы можем воспользоваться библиотекой [geopy](https://pypi.org/project/geopy/).\n",
    "\n",
    "Она использует публичные api (например OpenStreetMap Nominatim, Google Geocoding API и другие).\n",
    "Благодаря этому мы можем искать разные обьекты и их координаты по адресу.\n",
    "Это может быть номер и улица дома, название города или страны.\n",
    "\n",
    "Официальную документацию можно просмотреть [тут](https://geopy.readthedocs.io/en/latest/#geocoders)"
   ]
  },
  {
   "cell_type": "code",
   "execution_count": null,
   "metadata": {},
   "outputs": [],
   "source": [
    "#@title ##**Установка библиотеки**\n",
    "#@markdown `pip install geopy`\n",
    "\n",
    "%pip install geopy"
   ]
  },
  {
   "cell_type": "code",
   "execution_count": 20,
   "metadata": {},
   "outputs": [
    {
     "name": "stdout",
     "output_type": "stream",
     "text": [
      "Координаты Эйфелевой башни: 48.858260, 2.294499\n",
      "Координаты города Лондон: 51.507322, -0.127647\n"
     ]
    }
   ],
   "source": [
    "from geopy.geocoders import Nominatim\n",
    "\n",
    "# Для работы библиотеки, необходимо указать имя своего приложения\n",
    "geolocator = Nominatim(user_agent=\"pyAcademy\")\n",
    "\n",
    "location = geolocator.geocode(\"Эйфелева башня\")\n",
    "\n",
    "print(f'Координаты Эйфелевой башни: {location.latitude:.6f}, {location.longitude:.6f}')\n",
    "\n",
    "location = geolocator.geocode(\"London\")\n",
    "\n",
    "print(f'Координаты города Лондон: {location.latitude:.6f}, {location.longitude:.6f}')"
   ]
  }
 ],
 "metadata": {
  "interpreter": {
   "hash": "2db524e06e9f5f4ffedc911c917cb75e12dbc923643829bf417064a77eb14d37"
  },
  "kernelspec": {
   "display_name": "Python 3.8.0 64-bit",
   "language": "python",
   "name": "python3"
  },
  "language_info": {
   "codemirror_mode": {
    "name": "ipython",
    "version": 3
   },
   "file_extension": ".py",
   "mimetype": "text/x-python",
   "name": "python",
   "nbconvert_exporter": "python",
   "pygments_lexer": "ipython3",
   "version": "3.8.0"
  },
  "orig_nbformat": 4
 },
 "nbformat": 4,
 "nbformat_minor": 2
}
