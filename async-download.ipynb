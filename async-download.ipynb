{
 "cells": [
  {
   "cell_type": "markdown",
   "metadata": {},
   "source": [
    "**Асинхронно скачиваем файлы в Python**\n",
    "\n",
    "Имея список ссылок на картинки, которые нужно скачать, мы можем это сделать используя простой цикл `for`, тем самым скачав их последовательно одна за одной.\n",
    "\n",
    "Но в таких ситуациях как эта (скачивание огромного количества небольших файлов) распараллеливание задачи существенно ускорит процесс.\n",
    "\n",
    "Для этого используем функцию [ThreadPoolExecutor](https://docs.python.org/3/library/concurrent.futures.html) из стандартного пакета python `concurrent.futures`.\n",
    "Она позволяет запустить нашу функцию в нескольких екземплярах в параллельных потоках.\n",
    "В конструкторе `ThreadPoolExecutor` необходимо указать максимальное количество потоков, которые будут одновременно запущены.\n",
    "\n",
    "Далее метод `.map(download, urls)` создает екземпляры нашей функции для скачивания файла, и раскидывает в них элементы списка urls.\n",
    "\n",
    "Но будьте внимательны: данный метод не ускоряет вычисления кода, он лишь позволяет запустить скачивание следующего файла, не дождавшись пока скачается предыдущий. Так, как скачивание файла это IO-операция."
   ]
  },
  {
   "cell_type": "code",
   "execution_count": 9,
   "metadata": {},
   "outputs": [
    {
     "name": "stdout",
     "output_type": "stream",
     "text": [
      "Файл 856db9bb-8514-11ec-96e0-00ffbee9730a.jpg успешно скачан!\n",
      "Файл 856ea41d-8514-11ec-80d0-00ffbee9730a.jpg успешно скачан!\n",
      "Файл 856f405a-8514-11ec-a077-00ffbee9730a.jpg успешно скачан!\n"
     ]
    }
   ],
   "source": [
    "from concurrent.futures import ThreadPoolExecutor\n",
    "import uuid\n",
    "from PIL import Image\n",
    "import requests\n",
    "\n",
    "urls = [\n",
    "    'https://picsum.photos/200',\n",
    "    'https://picsum.photos/400',\n",
    "    'https://picsum.photos/100'\n",
    "    ]\n",
    "\n",
    "def download(url):\n",
    "    response = requests.get(url)\n",
    "    path_to_file = f'{uuid.uuid1()}.jpg'\n",
    "\n",
    "    with open(path_to_file, 'wb') as handle:\n",
    "        handle.write(response.content)\n",
    "\n",
    "    print(f'Файл {path_to_file} успешно скачан!')\n",
    "\n",
    "with ThreadPoolExecutor(max_workers=16) as executor:\n",
    "    executor.map(download, urls)\n"
   ]
  }
 ],
 "metadata": {
  "interpreter": {
   "hash": "2db524e06e9f5f4ffedc911c917cb75e12dbc923643829bf417064a77eb14d37"
  },
  "kernelspec": {
   "display_name": "Python 3.8.0 64-bit",
   "language": "python",
   "name": "python3"
  },
  "language_info": {
   "codemirror_mode": {
    "name": "ipython",
    "version": 3
   },
   "file_extension": ".py",
   "mimetype": "text/x-python",
   "name": "python",
   "nbconvert_exporter": "python",
   "pygments_lexer": "ipython3",
   "version": "3.8.0"
  },
  "orig_nbformat": 4
 },
 "nbformat": 4,
 "nbformat_minor": 2
}
